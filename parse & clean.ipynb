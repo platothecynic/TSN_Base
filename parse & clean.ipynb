{
 "cells": [
  {
   "cell_type": "code",
   "execution_count": 1,
   "id": "e545e361",
   "metadata": {},
   "outputs": [],
   "source": [
    "import requests\n",
    "from bs4 import BeautifulSoup\n",
    "import wget\n",
    "import gzip\n",
    "from tqdm import tqdm\n",
    "from selectolax.parser import HTMLParser\n",
    "import os\n",
    "import pandas as pd\n",
    "import numpy as np"
   ]
  },
  {
   "cell_type": "code",
   "execution_count": 4,
   "id": "acc893cb",
   "metadata": {},
   "outputs": [
    {
     "data": {
      "text/plain": [
       "['https://tsn.ua/sitemap/full/ru/sitemap_all_1.xml.gz',\n",
       " 'https://tsn.ua/sitemap/full/ru/sitemap_all_2.xml.gz',\n",
       " 'https://tsn.ua/sitemap/full/ru/sitemap_all_3.xml.gz',\n",
       " 'https://tsn.ua/sitemap/full/ru/sitemap_all_4.xml.gz',\n",
       " 'https://tsn.ua/sitemap/full/ru/sitemap_all_5.xml.gz',\n",
       " 'https://tsn.ua/sitemap/full/ru/sitemap_all_6.xml.gz',\n",
       " 'https://tsn.ua/sitemap/full/ru/sitemap_all_7.xml.gz',\n",
       " 'https://tsn.ua/sitemap/full/ru/sitemap_all_8.xml.gz',\n",
       " 'https://tsn.ua/sitemap/full/ru/sitemap_all_9.xml.gz',\n",
       " 'https://tsn.ua/sitemap/full/ru/sitemap_all_10.xml.gz']"
      ]
     },
     "execution_count": 4,
     "metadata": {},
     "output_type": "execute_result"
    }
   ],
   "source": [
    "#parsing 202 urls in 'lst' from tsn.ua/robots.txt... thats contains ~800K urls of all site.\n",
    "\n",
    "URL = 'https://tsn.ua/ru/sitemap_index.xml' #url from \\robots.txt\n",
    "r = requests.get(URL)\n",
    "bsObj = BeautifulSoup(r.content)\n",
    "\n",
    "lst_of_xml_gz = []\n",
    "\n",
    "for item in bsObj.find_all('loc'): # parsing all URLs of sitemap from sitemap_index.xml\n",
    "    lst_of_xml_gz.append(item.get_text())\n",
    "\n",
    "lst_of_xml_gz[0:10]"
   ]
  },
  {
   "cell_type": "code",
   "execution_count": 3,
   "id": "241f26fa",
   "metadata": {},
   "outputs": [],
   "source": [
    "#creating new folder in project 'data_xml_gz1' for 202 xml files.gzip\n",
    "os.mkdir('C:\\\\Users\\\\T\\\\data_tsn\\\\data_xml_gz')"
   ]
  },
  {
   "cell_type": "code",
   "execution_count": 5,
   "id": "bc5a13d0",
   "metadata": {},
   "outputs": [],
   "source": [
    "#downloading 202 xml.gz file from robots.txt that contains ~800K URLs\n",
    "path = 'C:\\\\Users\\\\T\\\\data_tsn\\\\data_xml_gz'\n",
    "for url in lst_of_xml_gz:\n",
    "    wget.download(url, out = path)"
   ]
  },
  {
   "cell_type": "code",
   "execution_count": 24,
   "id": "41b171d0",
   "metadata": {},
   "outputs": [
    {
     "name": "stdout",
     "output_type": "stream",
     "text": [
      "sitemap_all_1.xml.gz\n",
      "sitemap_all_10.xml.gz\n",
      "sitemap_all_100.xml.gz\n",
      "sitemap_all_101.xml.gz\n",
      "sitemap_all_102.xml.gz\n",
      "sitemap_all_103.xml.gz\n",
      "sitemap_all_104.xml.gz\n",
      "sitemap_all_105.xml.gz\n",
      "sitemap_all_106.xml.gz\n",
      "sitemap_all_107.xml.gz\n"
     ]
    }
   ],
   "source": [
    "#checking downloaded files\n",
    "files = os.listdir(r'C:\\\\Users\\\\T\\\\data_tsn\\\\data_xml_gz')\n",
    "for item in files[0:10]:\n",
    "    print(item)"
   ]
  },
  {
   "cell_type": "code",
   "execution_count": 4,
   "id": "db6f133a",
   "metadata": {},
   "outputs": [],
   "source": [
    "#parsing all URLs from xml.gz local files\n",
    "lst_of_URLs = []\n",
    "for item in tqdm(files):\n",
    "    path = f'C:\\\\Users\\\\T\\\\data_tsn\\\\data_xml_gz\\{item}'\n",
    "    f=gzip.open(path, 'rb')\n",
    "    file_content = f.read()\n",
    "    tree = HTMLParser(file_content)\n",
    "    node = tree.css('url')\n",
    "    for item in node:\n",
    "        lst_of_URLs.append(item.text().split())"
   ]
  },
  {
   "cell_type": "code",
   "execution_count": 7,
   "id": "485f9d19",
   "metadata": {},
   "outputs": [
    {
     "name": "stdout",
     "output_type": "stream",
     "text": [
      "[['https://tsn.ua/ru/den-v-istorii-d/20-iyulya-v-istorii-mezhdunarodnyy-den-torta-nachalo-istorii-bmw-i-den-ledenca-na-palochke-99780.html', '2021-07-20', 'daily', '0.7'], ['https://tsn.ua/ru/svit/21-iyulya-zvezdy-rodivshiesya-segodnya-99788.html', '2021-07-21', 'daily', '0.7'], ['https://tsn.ua/ru/svit/21-iyulya-v-istorii-pervyy-chelovek-na-lune-i-izdanie-posledney-knigi-potteriany-138838.html', '2021-07-21', 'daily', '0.7'], ['https://tsn.ua/ru/den-v-istorii-d/1-avgusta-v-istorii-vozvraschenie-uolta-disneya-iz-evropy-brizhit-bardo-iz-meksiki-i-pobeda-mayka-taysona-139768.html', '2021-08-01', 'daily', '0.7'], ['https://tsn.ua/online', '2022-02-23', 'daily', '1']]\n",
      "804310\n"
     ]
    }
   ],
   "source": [
    "#checking downloaded files\n",
    "print(lst_of_URLs[0:5])\n",
    "print(len(lst_of_URLs))"
   ]
  },
  {
   "cell_type": "code",
   "execution_count": 8,
   "id": "a94cdf05",
   "metadata": {},
   "outputs": [
    {
     "data": {
      "text/plain": [
       "804302"
      ]
     },
     "execution_count": 8,
     "metadata": {},
     "output_type": "execute_result"
    }
   ],
   "source": [
    "# deleting all samples that have len != 4\n",
    "for item in lst_of_URLs:\n",
    "    if len(item) != 4:\n",
    "        lst_of_URLs.remove(item)\n",
    "# 8 samples lost, cause wrong data parsing or bad xml html in tsn.ua\n",
    "len(lst_of_URLs)"
   ]
  },
  {
   "cell_type": "code",
   "execution_count": 10,
   "id": "8366a95e",
   "metadata": {},
   "outputs": [],
   "source": [
    "#for downloading all .html from lst_of_URLs we must create \n",
    "#new folder for urls.txt x20 files with all URLs separeted from list\n",
    "\n",
    "os.mkdir('C:\\\\Users\\\\T\\\\data_tsn\\\\data_txt')"
   ]
  },
  {
   "cell_type": "code",
   "execution_count": 18,
   "id": "9458cb86",
   "metadata": {},
   "outputs": [],
   "source": [
    "#creating 20 urls.txt with 40216 URLs in one files\n",
    "#804302 ---> 804320 for make divide to 20 \n",
    "for i in range(20):\n",
    "    with open(f'C:/Users/T/data_tsn/data_txt/urls{i}.txt', 'w') as out:\n",
    "        for item in lst_of_URLs[40216 * i:40216 * (i+1)-1]:\n",
    "            out.write(item[0] + '\\n')\n"
   ]
  },
  {
   "cell_type": "code",
   "execution_count": 19,
   "id": "65e8d96a",
   "metadata": {},
   "outputs": [
    {
     "name": "stdout",
     "output_type": "stream",
     "text": [
      ".ipynb_checkpoints\n",
      "urls0.txt\n",
      "urls1.txt\n",
      "urls10.txt\n",
      "urls11.txt\n",
      "urls12.txt\n",
      "urls13.txt\n",
      "urls14.txt\n",
      "urls15.txt\n",
      "urls16.txt\n",
      "urls17.txt\n",
      "urls18.txt\n",
      "urls19.txt\n",
      "urls2.txt\n",
      "urls3.txt\n",
      "urls4.txt\n",
      "urls5.txt\n",
      "urls6.txt\n",
      "urls7.txt\n",
      "urls8.txt\n",
      "urls9.txt\n"
     ]
    }
   ],
   "source": [
    "#checking created files:\n",
    "files = os.listdir(r'C:\\\\Users\\\\T\\\\data_tsn\\\\data_txt')\n",
    "for item in files:\n",
    "    print(item)"
   ]
  },
  {
   "cell_type": "code",
   "execution_count": 14,
   "id": "14c2efce",
   "metadata": {},
   "outputs": [],
   "source": [
    "#creating new folder in project for downloaded .html files from URLs of data_txt .txt files\n",
    "os.mkdir('E:\\\\data_html')"
   ]
  },
  {
   "cell_type": "code",
   "execution_count": 26,
   "id": "2ce6eced",
   "metadata": {},
   "outputs": [],
   "source": [
    "#downloading all html links from urls 0 - 20 .txt in local disk for future parsing.\n",
    "for i in range(0,20):\n",
    "    os.system(f'START /B /HIGH wget --compression=gzip -P E:/data_html -i C:/Users/T/data_tsn/data_txt/urls{i}.txt')\n"
   ]
  },
  {
   "cell_type": "code",
   "execution_count": 27,
   "id": "4ccc3937",
   "metadata": {},
   "outputs": [],
   "source": [
    "#from downloaded html files deleting all that not have .html and not good\n",
    "files = os.listdir(r'E:\\data_html')\n",
    "pattern = r'[A-Za-z0-9._%+-]+html'\n",
    "for item in files:\n",
    "    match = re.fullmatch(pattern, item)\n",
    "    if match is not None:\n",
    "        pass    \n",
    "    else:\n",
    "        os.remove(f\"E:/data_html/{item}\")\n",
    "        \n",
    "#all index.html have nothing inside trying to remove it\n",
    "try:\n",
    "    os.remove(f\"E:/data_html/index.html\") \n",
    "except:\n",
    "    print('None index')"
   ]
  },
  {
   "cell_type": "code",
   "execution_count": 3,
   "id": "a01b84a4",
   "metadata": {},
   "outputs": [],
   "source": [
    "\n",
    "#parsing all good html to result_list\n",
    "files = os.listdir(r'E:\\data_html')\n",
    "result_of_parsing = []\n",
    "for item in tqdm(files):\n",
    "    dict_for_elem = {} \n",
    "    # Opening the html file\n",
    "    HTMLFile = open(f'E:/data_html/{item}', \"r\", encoding='utf-8')\n",
    "\n",
    "    # Reading the file\n",
    "    index = HTMLFile.read()\n",
    "\n",
    "    # Creating a BeautifulSoup object and specifying the parser\n",
    "    tree = HTMLParser(index)\n",
    "\n",
    "\n",
    "\n",
    "    #get tag in header\n",
    "    try:\n",
    "        dict_for_elem['header_tag'] = tree.css_first('dd[class=c-bar__label]').text()\n",
    "    except AttributeError as e:\n",
    "        print('header_tag')\n",
    "        print(item)\n",
    "\n",
    "\n",
    "    # лінк статті\n",
    "    try:\n",
    "        for item in tree.css('a[class=sr-only]'):\n",
    "            dict_for_elem['href'] = item.attributes['href']\n",
    "    except AttributeError as e:\n",
    "        print('href')\n",
    "        print(item)\n",
    "\n",
    "\n",
    "    # get title\n",
    "\n",
    "    try:\n",
    "        for item in tree.css('h1[class=c-card__title]'):\n",
    "            dict_for_elem['title'] = item.text()\n",
    "    except AttributeError as e:\n",
    "        print('title')\n",
    "        print(item)\n",
    "\n",
    "    #get time_date\n",
    "    try:\n",
    "        dict_for_elem['time_date'] = tree.css_first('time').text()\n",
    "    except AttributeError as e:\n",
    "        print('time_date')\n",
    "        print(item)\n",
    "\n",
    "\n",
    "    #get view\n",
    "    try:\n",
    "        dict_for_elem['view'] = tree.css('footer[class=c-card__foot]')[0].text()\n",
    "    except IndexError as e:\n",
    "        print('view')\n",
    "        print(item)\n",
    "\n",
    "\n",
    "    #get bold_h1\n",
    "    try:\n",
    "        items = tree.css('div[class=c-article__lead]')\n",
    "        for item in items:\n",
    "            dict_for_elem['bold_h1'] = item.text()\n",
    "    except AttributeError as e:\n",
    "        print('bold_h1')\n",
    "        print(item)\n",
    "\n",
    "    #get text\n",
    "    try:\n",
    "        item = tree.css('div[class=c-article__body]')\n",
    "        for item in item:\n",
    "            dict_for_elem['text'] = item.text()\n",
    "    except AttributeError as e:\n",
    "        print('text')\n",
    "        print(item)\n",
    "\n",
    "    #get tags\n",
    "    try:\n",
    "        lst_tag = []\n",
    "        for item in tree.css('a[class=c-tag__box]'):\n",
    "            lst_tag.append(item.text())\n",
    "        dict_for_elem['tags'] = lst_tag\n",
    "    except AttributeError as e:\n",
    "        print('tags')\n",
    "        print(item)\n",
    "    result_of_parsing.append(dict_for_elem)"
   ]
  },
  {
   "cell_type": "code",
   "execution_count": 17,
   "id": "53e603e8",
   "metadata": {},
   "outputs": [],
   "source": [
    "df = pd.DataFrame(result_of_parsing)"
   ]
  },
  {
   "cell_type": "code",
   "execution_count": 14,
   "id": "61e68388",
   "metadata": {},
   "outputs": [],
   "source": [
    "df.to_csv(r'C:\\Users\\T\\data_tsn\\parse.csv', mode='a', index=False, header=False)"
   ]
  },
  {
   "cell_type": "markdown",
   "id": "5924d1e7",
   "metadata": {},
   "source": [
    "CLEANING parser.csv"
   ]
  },
  {
   "cell_type": "code",
   "execution_count": 2,
   "id": "95c38995",
   "metadata": {},
   "outputs": [],
   "source": [
    "tsn = pd.read_csv('parse.csv')"
   ]
  },
  {
   "cell_type": "code",
   "execution_count": 10,
   "id": "af1af7ec",
   "metadata": {},
   "outputs": [
    {
     "data": {
      "text/plain": [
       "22448                       \\nКогда начинается рекрутинг?\\n\n",
       "429989    \\nСеть умилил американский полицейский, которы...\n",
       "588855    \\n\"Завел в сарай и издевался\". На Житомирщине ...\n",
       "438429    \\nСмертельно больным американцам разрешили при...\n",
       "430138    \\nСеверная Корея обвинила США в провокациях пе...\n",
       "Name: title, dtype: object"
      ]
     },
     "execution_count": 10,
     "metadata": {},
     "output_type": "execute_result"
    }
   ],
   "source": [
    "tsn['title'].sample(5)"
   ]
  },
  {
   "cell_type": "code",
   "execution_count": 11,
   "id": "32d08ac4",
   "metadata": {},
   "outputs": [
    {
     "data": {
      "text/plain": [
       "2.0     458078\n",
       "0.0     326817\n",
       "3.0       1915\n",
       "1.0       1007\n",
       "12.0       137\n",
       "4.0         54\n",
       "5.0         25\n",
       "24.0        17\n",
       "6.0          4\n",
       "13.0         2\n",
       "7.0          1\n",
       "14.0         1\n",
       "15.0         1\n",
       "Name: title, dtype: int64"
      ]
     },
     "execution_count": 11,
     "metadata": {},
     "output_type": "execute_result"
    }
   ],
   "source": [
    "#cleaning title\n",
    "def len_of_title():\n",
    "    len_befor = tsn['title'].str.len()\n",
    "    tsn['title'] = tsn['title'].str.replace('\\n','')\n",
    "    tsn['title'] = tsn['title'].str.replace('\\xa0',' ')\n",
    "    tsn['title'] = tsn['title'].str.replace('\\t',' ')\n",
    "    tsn['title'] = tsn['title'].str.replace('&quot;','')\n",
    "    tsn['title'] = tsn['title'].str.replace(r'\\s{2,}', ' ', regex=True)\n",
    "    tsn['title'] = tsn['title'].str.strip(' ')\n",
    "    tsn['title'][tsn['title'].str.isnumeric().fillna(False)] = np.nan # 1034 row with numbers is converted to np.nan\n",
    "    tsn['title'][tsn['title'].str.contains(r'[\\d]+_', regex=True).fillna(False)] = np.nan # 952 row with 01_mfofsa 10_asmkdma... numbers and some text\n",
    "    len_after = tsn['title'].str.len()\n",
    "    return len_befor - len_after\n",
    "result_of_title = len_of_title()\n",
    "result_of_title.value_counts() #checking how much len deleted for see some Errors"
   ]
  },
  {
   "cell_type": "code",
   "execution_count": 13,
   "id": "5de22694",
   "metadata": {},
   "outputs": [
    {
     "data": {
      "text/plain": [
       "232265    Цены на лекарства в оккупированном Крыму вырос...\n",
       "25176     Либкин и Барбир приготовили французский суп \"Б...\n",
       "581120    Янукович пророчит Украине прорыв в космической...\n",
       "604569    Арсен Аваков заявил о пророссийской информацио...\n",
       "8075      Чиновники смогут подать е-декларации только в ...\n",
       "Name: title, dtype: object"
      ]
     },
     "execution_count": 13,
     "metadata": {},
     "output_type": "execute_result"
    }
   ],
   "source": [
    "tsn['title'].sample(5)"
   ]
  },
  {
   "cell_type": "code",
   "execution_count": 14,
   "id": "16844a40",
   "metadata": {},
   "outputs": [
    {
     "data": {
      "text/plain": [
       "56372     10:56, 09.03.16\n",
       "6126      01:49, 11.08.16\n",
       "657935    20:35, 08.05.18\n",
       "259902    17:21, 06.03.15\n",
       "415777    15:51, 20.05.22\n",
       "Name: time_date, dtype: object"
      ]
     },
     "execution_count": 14,
     "metadata": {},
     "output_type": "execute_result"
    }
   ],
   "source": [
    "tsn['time_date'].sample(5)"
   ]
  },
  {
   "cell_type": "code",
   "execution_count": 15,
   "id": "f6eb542c",
   "metadata": {},
   "outputs": [],
   "source": [
    "#time and date cleaning and setting time_date to index\n",
    "time_date_columns = ['time', 'date']\n",
    "tsn[time_date_columns] = tsn['time_date'].str.split(', ', expand=True)\n",
    "tsn = tsn.drop(labels='time_date', axis='columns')\n",
    "date_columns = ['day', 'month', 'year']\n",
    "tsn[date_columns] = tsn['date'].str.split('.', expand=True)\n",
    "tsn = tsn.drop(labels='date', axis='columns')\n",
    "tsn['time_date'] = tsn['time'] + ', ' + tsn['day'] + '-' + tsn['month'] + '-' + '20' + tsn['year']\n",
    "tsn = tsn.drop(labels=['time','day','month','year',], axis='columns')\n",
    "tsn['time_date'] = pd.to_datetime(tsn['time_date'], format=\"%H:%M, %d-%m-%Y\")\n",
    "tsn = tsn.set_index('time_date').sort_index()"
   ]
  },
  {
   "cell_type": "code",
   "execution_count": 16,
   "id": "5d87372a",
   "metadata": {},
   "outputs": [
    {
     "data": {
      "text/html": [
       "<div>\n",
       "<style scoped>\n",
       "    .dataframe tbody tr th:only-of-type {\n",
       "        vertical-align: middle;\n",
       "    }\n",
       "\n",
       "    .dataframe tbody tr th {\n",
       "        vertical-align: top;\n",
       "    }\n",
       "\n",
       "    .dataframe thead th {\n",
       "        text-align: right;\n",
       "    }\n",
       "</style>\n",
       "<table border=\"1\" class=\"dataframe\">\n",
       "  <thead>\n",
       "    <tr style=\"text-align: right;\">\n",
       "      <th></th>\n",
       "      <th>header_tag</th>\n",
       "      <th>href</th>\n",
       "      <th>title</th>\n",
       "      <th>view</th>\n",
       "      <th>bold_h1</th>\n",
       "      <th>text</th>\n",
       "      <th>tags</th>\n",
       "    </tr>\n",
       "    <tr>\n",
       "      <th>time_date</th>\n",
       "      <th></th>\n",
       "      <th></th>\n",
       "      <th></th>\n",
       "      <th></th>\n",
       "      <th></th>\n",
       "      <th></th>\n",
       "      <th></th>\n",
       "    </tr>\n",
       "  </thead>\n",
       "  <tbody>\n",
       "    <tr>\n",
       "      <th>2007-05-26 00:00:00</th>\n",
       "      <td>Видео</td>\n",
       "      <td>https://tsn.ua/ru/video/video-novini/test01.html</td>\n",
       "      <td>test01</td>\n",
       "      <td>Дата публикации00:00, 26.05.07Просмотры\\n     ...</td>\n",
       "      <td>NaN</td>\n",
       "      <td>NaN</td>\n",
       "      <td>['\\n                        test01\\n        ']</td>\n",
       "    </tr>\n",
       "    <tr>\n",
       "      <th>2007-05-26 00:00:00</th>\n",
       "      <td>Видео</td>\n",
       "      <td>https://tsn.ua/ru/video/video-novini/dog.html</td>\n",
       "      <td>dog</td>\n",
       "      <td>Дата публикации00:00, 26.05.07Просмотры\\n     ...</td>\n",
       "      <td>NaN</td>\n",
       "      <td>NaN</td>\n",
       "      <td>['\\n                        dog\\n        ']</td>\n",
       "    </tr>\n",
       "    <tr>\n",
       "      <th>2007-05-26 00:00:00</th>\n",
       "      <td>Видео</td>\n",
       "      <td>https://tsn.ua/ru/video/video-novini/tree.html</td>\n",
       "      <td>tree</td>\n",
       "      <td>Дата публикации00:00, 26.05.07Просмотры\\n     ...</td>\n",
       "      <td>NaN</td>\n",
       "      <td>NaN</td>\n",
       "      <td>['\\n                        tree\\n        ']</td>\n",
       "    </tr>\n",
       "    <tr>\n",
       "      <th>2007-05-27 18:35:00</th>\n",
       "      <td>Видео</td>\n",
       "      <td>https://tsn.ua/ru/video/video-novini/cherkasi-...</td>\n",
       "      <td>Черкаси без газу</td>\n",
       "      <td>Дата публикации18:35, 27.05.07Просмотры\\n     ...</td>\n",
       "      <td>NaN</td>\n",
       "      <td>NaN</td>\n",
       "      <td>[]</td>\n",
       "    </tr>\n",
       "    <tr>\n",
       "      <th>2007-05-28 12:00:00</th>\n",
       "      <td>Видео</td>\n",
       "      <td>https://tsn.ua/ru/video/video-novini/tch-25-05...</td>\n",
       "      <td>TCH 25 05 2007</td>\n",
       "      <td>Дата публикации12:00, 28.05.07Просмотры\\n     ...</td>\n",
       "      <td>NaN</td>\n",
       "      <td>NaN</td>\n",
       "      <td>['\\n                        tch25052007\\n     ...</td>\n",
       "    </tr>\n",
       "  </tbody>\n",
       "</table>\n",
       "</div>"
      ],
      "text/plain": [
       "                    header_tag  \\\n",
       "time_date                        \n",
       "2007-05-26 00:00:00      Видео   \n",
       "2007-05-26 00:00:00      Видео   \n",
       "2007-05-26 00:00:00      Видео   \n",
       "2007-05-27 18:35:00      Видео   \n",
       "2007-05-28 12:00:00      Видео   \n",
       "\n",
       "                                                                  href  \\\n",
       "time_date                                                                \n",
       "2007-05-26 00:00:00   https://tsn.ua/ru/video/video-novini/test01.html   \n",
       "2007-05-26 00:00:00      https://tsn.ua/ru/video/video-novini/dog.html   \n",
       "2007-05-26 00:00:00     https://tsn.ua/ru/video/video-novini/tree.html   \n",
       "2007-05-27 18:35:00  https://tsn.ua/ru/video/video-novini/cherkasi-...   \n",
       "2007-05-28 12:00:00  https://tsn.ua/ru/video/video-novini/tch-25-05...   \n",
       "\n",
       "                                title  \\\n",
       "time_date                               \n",
       "2007-05-26 00:00:00            test01   \n",
       "2007-05-26 00:00:00               dog   \n",
       "2007-05-26 00:00:00              tree   \n",
       "2007-05-27 18:35:00  Черкаси без газу   \n",
       "2007-05-28 12:00:00    TCH 25 05 2007   \n",
       "\n",
       "                                                                  view  \\\n",
       "time_date                                                                \n",
       "2007-05-26 00:00:00  Дата публикации00:00, 26.05.07Просмотры\\n     ...   \n",
       "2007-05-26 00:00:00  Дата публикации00:00, 26.05.07Просмотры\\n     ...   \n",
       "2007-05-26 00:00:00  Дата публикации00:00, 26.05.07Просмотры\\n     ...   \n",
       "2007-05-27 18:35:00  Дата публикации18:35, 27.05.07Просмотры\\n     ...   \n",
       "2007-05-28 12:00:00  Дата публикации12:00, 28.05.07Просмотры\\n     ...   \n",
       "\n",
       "                    bold_h1 text  \\\n",
       "time_date                          \n",
       "2007-05-26 00:00:00     NaN  NaN   \n",
       "2007-05-26 00:00:00     NaN  NaN   \n",
       "2007-05-26 00:00:00     NaN  NaN   \n",
       "2007-05-27 18:35:00     NaN  NaN   \n",
       "2007-05-28 12:00:00     NaN  NaN   \n",
       "\n",
       "                                                                  tags  \n",
       "time_date                                                               \n",
       "2007-05-26 00:00:00     ['\\n                        test01\\n        ']  \n",
       "2007-05-26 00:00:00        ['\\n                        dog\\n        ']  \n",
       "2007-05-26 00:00:00       ['\\n                        tree\\n        ']  \n",
       "2007-05-27 18:35:00                                                 []  \n",
       "2007-05-28 12:00:00  ['\\n                        tch25052007\\n     ...  "
      ]
     },
     "execution_count": 16,
     "metadata": {},
     "output_type": "execute_result"
    }
   ],
   "source": [
    "tsn.head(5)"
   ]
  },
  {
   "cell_type": "code",
   "execution_count": 19,
   "id": "73720dc8",
   "metadata": {},
   "outputs": [
    {
     "data": {
      "text/plain": [
       "time_date\n",
       "2012-09-10 10:44:00    Ждать, пока глупые станут мудрее - жизни не хв...\n",
       "2014-03-18 17:51:00    Канал Russia Today на YouTube был заблокирован...\n",
       "2019-06-07 03:58:00    Африканский Союз приостановил членство этой ст...\n",
       "2012-04-17 18:53:00    Кого выбрала Даша Астафьева в свою группу, про...\n",
       "2022-07-27 07:15:00    Начались 154 сутки героического противостояния...\n",
       "Name: bold_h1, dtype: object"
      ]
     },
     "execution_count": 19,
     "metadata": {},
     "output_type": "execute_result"
    }
   ],
   "source": [
    "tsn['bold_h1'].sample(5)"
   ]
  },
  {
   "cell_type": "code",
   "execution_count": 20,
   "id": "92fcc57f",
   "metadata": {},
   "outputs": [
    {
     "data": {
      "text/plain": [
       "0.0     635007\n",
       "2.0      49299\n",
       "1.0      42361\n",
       "4.0      13853\n",
       "3.0       3675\n",
       "5.0        653\n",
       "6.0        401\n",
       "7.0         98\n",
       "10.0        73\n",
       "8.0         69\n",
       "9.0         29\n",
       "11.0        16\n",
       "14.0        11\n",
       "12.0        10\n",
       "20.0         9\n",
       "13.0         7\n",
       "16.0         6\n",
       "28.0         6\n",
       "22.0         6\n",
       "15.0         5\n",
       "18.0         5\n",
       "27.0         3\n",
       "21.0         3\n",
       "30.0         2\n",
       "17.0         2\n",
       "29.0         2\n",
       "26.0         2\n",
       "19.0         2\n",
       "24.0         2\n",
       "36.0         1\n",
       "78.0         1\n",
       "45.0         1\n",
       "25.0         1\n",
       "34.0         1\n",
       "33.0         1\n",
       "31.0         1\n",
       "Name: bold_h1, dtype: int64"
      ]
     },
     "execution_count": 20,
     "metadata": {},
     "output_type": "execute_result"
    }
   ],
   "source": [
    "#Cleaning bold_h1\n",
    "def len_of_bold_h1():\n",
    "    len_befor = tsn['bold_h1'].str.len()\n",
    "    tsn['bold_h1'] = tsn['bold_h1'].str.replace('\\n','')\n",
    "    tsn['bold_h1'] = tsn['bold_h1'].str.replace('\\xa0','')\n",
    "    tsn['bold_h1'] = tsn['bold_h1'].str.replace('\\t',' ')\n",
    "    tsn['bold_h1'] = tsn['bold_h1'].str.replace(r'\\s{2,}', ' ', regex=True)\n",
    "    tsn['bold_h1'] = tsn['bold_h1'].str.strip(' ')\n",
    "    len_after = tsn['bold_h1'].str.len()\n",
    "    return len_befor - len_after\n",
    "result_of_bold_h1 = len_of_bold_h1()\n",
    "result_of_bold_h1.value_counts() #checking how much len deleted for see some Errors"
   ]
  },
  {
   "cell_type": "code",
   "execution_count": 21,
   "id": "4d2a5a35",
   "metadata": {},
   "outputs": [
    {
     "data": {
      "text/plain": [
       "time_date\n",
       "2015-06-11 13:30:00      Противник продолжает бить на всех направлениях.\n",
       "2015-02-28 17:00:00    Организацию похорон взял на себя зять покойног...\n",
       "2015-01-20 13:36:00               Боевые действия в зоне АТО не утихают.\n",
       "2014-09-24 11:44:00         Злоумышленник неоднократно выезжал в Москву.\n",
       "2019-08-14 16:42:00    Решать вопросы водоснабжения нельзя в отрыве о...\n",
       "Name: bold_h1, dtype: object"
      ]
     },
     "execution_count": 21,
     "metadata": {},
     "output_type": "execute_result"
    }
   ],
   "source": [
    "tsn['bold_h1'].sample(5)"
   ]
  },
  {
   "cell_type": "code",
   "execution_count": 15,
   "id": "cc75f4f2",
   "metadata": {},
   "outputs": [
    {
     "name": "stdout",
     "output_type": "stream",
     "text": [
      "['\\n                        Выпуски ТСН\\n        ', '\\n                        коронавирус в украине\\n        ', '\\n                        гость\\n        ', '\\n                        игорь кузин\\n        ']\n",
      "['\\n                        голос страны\\n        ', '\\n                        сельсовет\\n        ', '\\n                        тьома паучек\\n        ', '\\n                        паучек\\n        ', '\\n                        дима монатик\\n        ']\n",
      "['\\n                \\xa0\\n                        россия\\n        ']\n",
      "['\\n                        Киев\\n        ', '\\n                        стрельба\\n        ', '\\n                        преступники\\n        ', '\\n                        Toyota\\n        ', '\\n                        правоохранители\\n        ']\n",
      "['\\n                        арест\\n        ', '\\n                        Черное море\\n        ', '\\n                        капитан\\n        ', '\\n                        катер\\n        ', '\\n                        джубга\\n        ']\n"
     ]
    }
   ],
   "source": [
    "for item in tsn['tags'].sample(5):\n",
    "    print(item)"
   ]
  },
  {
   "cell_type": "code",
   "execution_count": 16,
   "id": "763c12f3",
   "metadata": {},
   "outputs": [],
   "source": [
    "#cleaning tags\n",
    "tsn['tags'] = tsn['tags'].str.lower()\n",
    "tsn['tags'] = tsn['tags'].replace(regex={r\"(\\['\\\\n\\s+)\":\"['\",r'\\\\n\\s+':'',r'\\\\xa0':''})\n",
    "tsn['tags'] = tsn['tags'].apply(eval)"
   ]
  },
  {
   "cell_type": "code",
   "execution_count": 17,
   "id": "6feed031",
   "metadata": {},
   "outputs": [
    {
     "name": "stdout",
     "output_type": "stream",
     "text": [
      "['адвокат', 'савченко', 'фейгин', 'грушники']\n",
      "['шендерович']\n",
      "['запорожье', 'мошенники', 'мошенник', 'волонтеры', 'благотворительный']\n",
      "['кения', 'спасение животных', 'мощные наводнения']\n",
      "['ребенок', 'дом', 'донетчина', 'снежное']\n"
     ]
    }
   ],
   "source": [
    "for item in tsn['tags'].sample(5):\n",
    "    print(item)"
   ]
  },
  {
   "cell_type": "code",
   "execution_count": 18,
   "id": "3c4b5a81",
   "metadata": {},
   "outputs": [
    {
     "name": "stdout",
     "output_type": "stream",
     "text": [
      "Дата публикации10:20, 12.03.19Просмотры\n",
      "        12\n",
      "    Поделиться:FacebookTwitterWhatsAppTelegramViberСкопировать ссылку\n",
      "Дата публикации15:05, 23.12.13Просмотры\n",
      "        1863\n",
      "    Поделиться:FacebookTwitterWhatsAppTelegramViberСкопировать ссылку\n",
      "Дата публикации12:58, 23.11.14Просмотры\n",
      "        3830\n",
      "    Поделиться:FacebookTwitterWhatsAppTelegramViberСкопировать ссылку\n",
      "Дата публикации01:30, 26.11.17Просмотры\n",
      "        4222\n",
      "    Поделиться:FacebookTwitterWhatsAppTelegramViberСкопировать ссылку\n",
      "Дата публикации17:52, 15.02.18Просмотры\n",
      "        8\n",
      "    Поделиться:FacebookTwitterWhatsAppTelegramViberСкопировать ссылку\n"
     ]
    }
   ],
   "source": [
    "for item in tsn['view'].sample(5):\n",
    "    print(item)"
   ]
  },
  {
   "cell_type": "code",
   "execution_count": 19,
   "id": "6f27c5b6",
   "metadata": {},
   "outputs": [],
   "source": [
    "tsn['view'] = tsn['view'].str.extract(r'(\\b[0-9]+[k-к-К]?[m-М-M]?\\s)',expand=True)\n",
    "tsn['view'] = tsn['view'].str.replace('\\n','')\n",
    "tsn['view'] = tsn['view'].str.replace('к','000')\n",
    "tsn['view'] = tsn['view'].str.replace('М','000000')\n",
    "tsn['view'] = tsn['view'].fillna('0')\n",
    "tsn['view'] = tsn['view'].astype('int32')"
   ]
  },
  {
   "cell_type": "code",
   "execution_count": 34,
   "id": "302d838b",
   "metadata": {},
   "outputs": [
    {
     "data": {
      "text/plain": [
       "time_date\n",
       "2018-08-18 01:17:00     3435\n",
       "2020-07-29 08:55:00        6\n",
       "2016-07-07 08:09:00        3\n",
       "2016-06-29 22:47:00    10000\n",
       "2022-03-06 08:58:00     3653\n",
       "Name: view, dtype: int32"
      ]
     },
     "execution_count": 34,
     "metadata": {},
     "output_type": "execute_result"
    }
   ],
   "source": [
    "tsn['view'].sample(5)"
   ]
  },
  {
   "cell_type": "code",
   "execution_count": 22,
   "id": "d57cad25",
   "metadata": {},
   "outputs": [
    {
     "name": "stdout",
     "output_type": "stream",
     "text": [
      "К обстрелам из тяжелой артиллерии наши морпехи уже привыкли. Не могут привыкнуть к смертям собратьев. Уходят из жизни совсем юные 20-летние контрактники. Они вместе с опытными старшими воинами защищают позиции под Мариуполем. Их рубеж - Водяное. И за этот рубеж они отдают свои жизни.\n",
      "\n",
      "separator\n",
      "\n",
      "Конструктивная схема здания: монолитный железобетонный каркас. Применяются системы навесных вентилируемых фасадов, с утеплением стен минеральной ватой.Соинвестором строительства жилищно-офисного комплекса \"Новопечерська Вежа\", который возводится в Печерском районе Киева - по пер. Кленовому, 7, 7-А, 7-Б; ул. Киквидзе, 41-А, 41-43, стала ведущая немецкая архитектурно-строительная компания \"Möser GmbH\".\n",
      "\n",
      "По словам руководителя компании-соинвестора и заказчика строительства ООО \"Гранд Луол\" Александра Семинищева, киевляне знакомы с этим комплексом под названием ЖК \"Панорама\". Но, пересмотрев качественные и имиджевые характеристики жилого комплекса после прихода иностранного инвестора, было принято решение осуществить ребрендинг названия в связи с обновлением концепции проекта. Так появилась \"Новопечерська Вежа\". Переименование проекта является не единственным изменением - комплекс в процессе кардинальных нововведений.\n",
      "\n",
      "\"Приход в соинвесторы немецкой архитектурно-строительной компании\" Möser GmbH \", имеющей большой опыт в возведении жилья для европейцев, знаменует собой не декларативные, а реальные европейские традиции - уютность и комфорт европейского уровня. Наши партнеры поставили это главным требованием к жилью\", - подчеркивает Александр Семенищев.\n",
      "\n",
      " Он добавил, что партнеры одобряют основное требование украинской стороны в направлении доступности жилья.\n",
      "\n",
      " \"Скажу больше: приход немецкого соинвестора позволяет сделать жилье в комплексе более доступным для украинцев\", - рассказывает руководитель украинской компании.\n",
      "\n",
      "ЖК \"Новопечерська Вежа\" - это 26-ти этажный дом, который включает 2 секции по 2 входные группы в жилые части дома. С 1-го по 24-й этажи – одно-, двух-, трех-, четырехкомнатные квартиры, 25-26 этажи - двухуровневые квартиры. Минимальная общая площадь дома в комплексе составляет 30 кв м., а максимальная общая площадь - 150 кв м.\n",
      "\n",
      "При строительстве используются лучшие энергосберегающие технологии с применением экологических материалов.\n",
      "\n",
      "Конструктивная схема здания: монолитный железобетонный каркас. Применяются системы навесных вентилируемых фасадов с утеплением стен минеральной ватой.\n",
      "\n",
      "Кровля: плоская рулонная, трехслойная.\n",
      "\n",
      "Количество лифтов в жилой части комплекса: по 2 лифта грузоподъемностью 630 кг и 1 лифт грузоподъемностью 1000 кг в каждой секции.\n",
      "\n",
      "Для обеспечения максимальной теплоизоляции в доме используются окна с 5-ти камерным профилем REHAU EURO 70, немецкого производства, и двухкамерные стеклопакеты ГЛАСТРЕШ, Швейцария. Это не просто окна, а целая система, сочетающая в себе функцию энергосберегающего, и рефлективного (солнцезащитного) стекла, и повышенную устойчивость к ветровой нагрузке, что обязательно оценят жители верхних этажей домов.\n",
      "\n",
      "И еще одна приятная деталь - внешнее стекло в стеклопакете имеет эффект зеркальности и позволяет любоваться видом из окна и быть абсолютно уверенным в том, что все, что происходит в доме в светлое время суток не будет видно с улицы.\n",
      "\n",
      "Дополнительно к основному паркингу, предусмотрены гостевые стоянки для парковки автомобилей и зарядки для электрокаров. На крыше комплекса будут установлены солнечные батареи для освещения мест общего пользования. А европейский дизайн входных групп и этажей создает дополнительный комфорт и уют для жителей \"Новопечерська Вежа\".\n",
      "\n",
      "Комплекс имеет уникальную особенность - закрытая детская площадка и прозрачный крепкий лифт, соединяющий придомовую территорию и игровую детскую зону, а также используется для удобного спуска детских колясок, и игрушек.\n",
      "\n",
      "Для жителей ЖК, которые придерживаются здорового и активного образа жизни, строится бесплатный спортзал, оборудованный спортивными принадлежностями.\n",
      "\n",
      "Пока же свободными в комплексе остаются около 60% квартир.\n",
      "\n",
      "Жилье европейского класса будут обслуживать по-европейски. Немецкие соинвесторы видят в этом смысл своего участия в Украине, а именно в проекте ЖК \"Новопечерська Вежа\". Внедряя высокие европейские стандарты в строительстве жилья, немецкие партнеры готовы в дальнейшем контролировать их соблюдение, после завершения строительства и дальнейшей эксплуатации комплекса - говорят в ООО \"Гранд Луол\".\n",
      "\n",
      "Согласно договоренности с компанией \"Möser GmbH\", обслуживанием комплекса займется эксплуатационная компания, которая будет работать по высоким европейским стандартам обслуживания и содержания жилья.\n",
      "\n",
      "Более подробную информацию о приобретении недвижимости в ЖК \"Новопечерська Вежа\" можно получить в официальном отдел продаж по адресу: г.. Киев, ул. М. Бойчука (Киквидзе), 41. Тел .: +38 044-333-60-02. http://vezha.kiev.ua/.\n",
      "\n",
      "separator\n",
      "\n",
      "Напряженная ситуация сохранялась в районе Донецка.За минувшие сутки, боевики 91 раз прибегали к вооруженным провокациям. Особенно они активизировались вчера под вечер.\r\n",
      "Об этом в Facebook сообщил пресс-центр АТО.\r\n",
      "Жарко было на подступах к Мариуполю. Боевики из гаубиц калибра 122 мм. и 152 мм. наносили удары по Широкиному и Старогнатовке. Применяли танки.\r\n",
      "В районе Донецка было совершено 55 обстрелов.\r\n",
      "Также читайте\n",
      "                            Круглосуточные бои в Широкино и угрозы боевиков недовольным жителям Донецка. Карта АТО\n",
      "                                                    \r\n",
      "Под плотный огонь из минометов калибра 120 мм. в очередной раз попали Пески, Красногоровка, Авдеевка, Первомайское, Марьинка и Опытное. По Песках, Красногоровке и Невельском палили артиллерийские системы калибра 122 мм. По Водяному стреляли вражеские танки.\r\n",
      "На Луганщине из гранатометов и минометов обстреливали Станицу Луганская.\r\n",
      "В районе Артемовска из стрелкового оружия и гранатометов боевики били по Майорску и Лозовому. После полуночи, боевики продолжили обстреливать из запрещенного Минскими договоренностями оружия позиции украинских военных и населенные пункты на Луганщине, в районе Донецка и близ Мариуполя. Зафиксировано не менее 15 случаев нарушения условий прекращения огня со стороны незаконных вооруженных формирований.\r\n",
      "        <![CDATA[// <![CDATA[\n",
      "(function(d, s, id) { var js, fjs = d.getElementsByTagName(s)[0]; if (d.getElementById(id)) return; js = d.createElement(s); js.id = id; js.src = \"//connect.facebook.net/ru_RU/sdk.js#xfbml=1&version=v2.3\"; fjs.parentNode.insertBefore(js, fjs);}(document, 'script', 'facebook-jssdk'));\n",
      "// ]]]]><![CDATA[>]]>\r\n",
      "\r\n",
      "\r\n",
      "За сутки, что прошлая, подконтрольные РФ незаконные вооруженные формирования 91 раз прибегали к вооруженным провокациям. Российско-тер...\r\n",
      "Posted by Пресс-центр АТО on 26 Июнь 2015 г.\r\n",
      "\r\n",
      "\n",
      "\n",
      "separator\n",
      "\n",
      "По словам представителя министерства внутренних дел Сергея Бурлакова действия силовиков - ответ на преступные действия евроактивистов, которых якобы подстрекали лидеры оппозиции.\n",
      "\n",
      "separator\n",
      "\n",
      "Похожие ситуации имели место на белорусской границе. В ГПС не исключают, что в РФ готовятся к обмену двух украинских пограничников, которые исчезли на границе в Сумской области, на двух ФСБешников, что были задержаны возле Крыма.\n",
      "\n",
      "Об этом информирует пресс-секретарь ведомства Олег Слободян, - пишет Еспресо.TV.\n",
      "\n",
      "\"Именно на этот вывод нас наталкивает нежелание российской стороны идти на диалог\", - сказал представитель погранслужбы.\n",
      "\n",
      "\"В рамках нормальной рабочей сотрудничеству на мирных участках границы это вопрос решается в течение одной встречи в течение 1-2 суток после инцидента - если нет каких-то отягчающих обстоятельств\", - отметил Слободян.\n",
      "\n",
      " \n",
      "\n",
      "Он рассказал, что подобные ситуации, в частности, имели место на белорусской границе, когда пограничники из Беларуси в силу обстоятельств, которые от них не зависели, нарушали границу, а потом Госпогранслужба Украины \"передавала их обратно\".\n",
      "\n",
      "\"И так же были ситуации в разные годы и с нашими пограничниками\", - сообщил Слободян.\n",
      "\n",
      "Вместе с тем, как заявил он, через отказ россиян обсуждать вопрос возврата 2 украинских пограничников в одностороннем порядке, \"до сих пор не известно, где находятся наши военнослужащие, в каком они состоянии и при каких обстоятельствах оказались на территории России\".\n",
      "\n",
      "ФСБ обнародовала видео допроса похищенных украинских пограничников00:44\n",
      "\n",
      "Как сообщалось ранее, двое пограничников пропали во время мониторинга границы на Сумщине. Инцидент произошел в районе села Знобтрубчевська. На том направлении, рассказывает советник Госпогранслужбы Олег Слободян, пограничники заметили подозрительное движение и выехали на место. Около 8 вечера с офицерами исчезла связь. Поиски продолжались всю ночь и пол дня, пока российские СМИ обнародовали сообщение о задержании двух украинских военнослужащих. Российская ФСБ не пустила консула Украины к двух задержанных украинских пограничников. По оперативной информации, в РФ уже состоялся суд в отношении украинских пограничников - рассмотрение был по статьям относительно \"незаконного пересечения границы\" и \"злостного неповиновения работникам правоохранительного органа\". Решение суда – 2 месяца под стражей.\n",
      "\n",
      "separator\n",
      "\n"
     ]
    }
   ],
   "source": [
    "for item in tsn['text'].sample(5):\n",
    "    print(item, end='\\n\\n')\n",
    "    print('separator', end='\\n\\n')"
   ]
  },
  {
   "cell_type": "code",
   "execution_count": 22,
   "id": "cf49be85",
   "metadata": {},
   "outputs": [],
   "source": [
    "def len_of_text():\n",
    "    len_befor = tsn['text'].str.len()\n",
    "    tsn['text'] = tsn['text'].str.replace(r'(Также читайте\\s+.+\\s+)', '', regex=True)\n",
    "    tsn['text'] = tsn['text'].str.replace(r'(Также читайте.+)', '', regex=True)\n",
    "    tsn['text'] = tsn['text'].str.replace(r'(Читайте также[\\D\\d]+)', '', regex=True)\n",
    "    tsn['text'] = tsn['text'].str.replace(r'(\\n\\b.{0,40}читайте также[\\d\\D]+)', '', regex=True)\n",
    "    tsn['text'] = tsn['text'].str.replace('[\\n\\r]', '', regex=True)\n",
    "    tsn['text'] = tsn['text'].str.replace(r'(\\s{2,})', '',regex=True)\n",
    "    len_after = tsn['text'].str.len()\n",
    "    return len_befor - len_after\n",
    "result_of_text = len_of_text()"
   ]
  },
  {
   "cell_type": "code",
   "execution_count": 23,
   "id": "370360b8",
   "metadata": {},
   "outputs": [
    {
     "name": "stdout",
     "output_type": "stream",
     "text": [
      "Уже совсем скоро американцы выберут себе нового президента. В честь будущих первых супругов страны уже изготавливают специальные украшения и значки. Комплектов будет два - для Хиллари и Билла и Мелании и Дональда.\n",
      "\n",
      "\n",
      "Прогноз погоды на 16 апреля.Сегодня, 16 апреля, в западных и восточных регионах Украины ожидаются дожди.Как сообщает Укргидрометцентр, на севере, в центре и юге страны - преимущественно без осадков. Температура воздуха днем составит 14-22 градуса тепла.На западе Украины синоптики прогнозируют температуру15-22 тепла, на севере – 15-18 тепла, на востоке – 14-18 градусов, на юге – 16-21 тепла, а в центре - от 16 до 18 градусов.В Киеве сегодня ожидается солнечная погода, температура воздуха 15-17 градусов тепла.\n",
      "\n",
      "\n",
      "Работы по строительству планируется завершить до 2019 года.Латвия построила на границе с Россией 23 километры стены с целью предотвратить попытки нелегальной иммиграции.Об этом сообщил пресс-секретарь Государственной пограничной охраны Латвии Евгения Позняк, передает Delfi.Работы по строительству планируется завершить до 2019 года. Сейчас на границе оборудована пограничная полоса длиной 65 км.В этом году на обустройство границы выделено 6,3 миллиона евро, на которые планируется оборудовать пограничную полосу длиной 150 км и построить 60 км стены.Согласно сообщению, минимальная высота ограждения составит 2,7 метра, включая колючую проволоку.Напомним, в 2015 году латвийская власть решила защитить некоторые участки границы с Россией забором. Тогда планировалось, что в рамках проекта обустройства границы забор будет чередоваться с камерами видеонаблюдения и сенсорными системами.\n",
      "\n",
      "\n",
      "В столице России огонь охватил здание на территории храма Петра и Павла, построенного в 17 веке.Вечером во вторник, 24 мая, в российской столице Москве в районе Лефортово вспыхнула крестильня при храме Петра и Павла – древней церкви, построенной в начале 17 века.Об этом сообщают российские СМИ, публикуя видео с места происшествия.По информации от местных экстренных служб, огонь охватил здание площадью 150 квадратных метров, но постройку храма не задел. Пожарным удалось локализовать возгорание.Известно, что приходской храм в Лефортовском районе Москвы был освящен в 1613 году в честь Николая Чудотворца.О причине пожара пока ничего неизвестно, информации о жертвах огня тоже нет.Напомним, в конце апреля в Москве у здания мэрии произошел масштабный пожар. В здании Тверской площади вспыхнул деревянный павильон, где продают сувениры и российские продукты.\n",
      "\n",
      "\n",
      "Как отметили начало нового 2015 года в Украине и за ее пределами, удалось ли боевикам испортить новогоднюю ночь украинским военным на Донбассе, что происходило в рамках празднования дня рождения Бандеры в разных городах Украины и другое - в выпуске ТСН.19:30 за 1 января 2015 года\n",
      "\n",
      "\n"
     ]
    }
   ],
   "source": [
    "for item in tsn['text'].sample(5):\n",
    "    print(item, end='\\n\\n')\n",
    "    print('separator', end='\\n\\n')"
   ]
  }
 ],
 "metadata": {
  "kernelspec": {
   "display_name": "Python 3 (ipykernel)",
   "language": "python",
   "name": "python3"
  },
  "language_info": {
   "codemirror_mode": {
    "name": "ipython",
    "version": 3
   },
   "file_extension": ".py",
   "mimetype": "text/x-python",
   "name": "python",
   "nbconvert_exporter": "python",
   "pygments_lexer": "ipython3",
   "version": "3.9.12"
  }
 },
 "nbformat": 4,
 "nbformat_minor": 5
}
